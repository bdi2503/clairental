{
  "nbformat": 4,
  "nbformat_minor": 0,
  "metadata": {
    "colab": {
      "provenance": [],
      "include_colab_link": true
    },
    "kernelspec": {
      "name": "python3",
      "display_name": "Python 3"
    },
    "language_info": {
      "name": "python"
    }
  },
  "cells": [
    {
      "cell_type": "markdown",
      "metadata": {
        "id": "view-in-github",
        "colab_type": "text"
      },
      "source": [
        "<a href=\"https://colab.research.google.com/github/bdi2503/clairental/blob/main/25_hw.ipynb\" target=\"_parent\"><img src=\"https://colab.research.google.com/assets/colab-badge.svg\" alt=\"Open In Colab\"/></a>"
      ]
    },
    {
      "cell_type": "markdown",
      "source": [
        "Советы по решению задач на циклы и условные операторы:\n",
        "\n",
        "1. Понимание задачи:\n",
        "   - Внимательно прочитайте условие задачи.\n",
        "   - Определите, что именно требуется от вашей программы (входные данные, выходные данные).\n",
        "\n",
        "2. Псевдокод:\n",
        "   - Напишите псевдокод или составьте план решения на бумаге.\n",
        "   - Разделите задачу на более маленькие и управляемые шаги.\n",
        "\n",
        "3. Выбор подходящих конструкций:\n",
        "   - Выберите тип цикла (for или while) в зависимости от задачи.\n",
        "     - for часто используется, когда количество итераций известно заранее.\n",
        "     - while полезен, когда итерации зависят от условия в процессе выполнения.\n",
        "   - Используйте условные операторы (if, elif, else) для проверки различных условий.\n",
        "4. Исправление ошибок:\n",
        "   - Внимательно читайте ошибки, которые возникают, и исправляйте их по мере необходимости."
      ],
      "metadata": {
        "id": "xU4jN0Y_bmrY"
      }
    },
    {
      "cell_type": "markdown",
      "source": [
        "Простое сложение\n",
        "   - Написать программу, которая запрашивает у пользователя два числа и выводит их сумму."
      ],
      "metadata": {
        "id": "-TP6__L5Zxgv"
      }
    },
    {
      "cell_type": "code",
      "execution_count": null,
      "metadata": {
        "id": "j-jIoO2EZLni"
      },
      "outputs": [],
      "source": []
    },
    {
      "cell_type": "markdown",
      "source": [
        "Факториал числа\n",
        "   - Написать программу, которая принимает число и возвращает его факториал"
      ],
      "metadata": {
        "id": "oducx4VTZyee"
      }
    },
    {
      "cell_type": "code",
      "source": [],
      "metadata": {
        "id": "ZjK0zhrTZzrg"
      },
      "execution_count": null,
      "outputs": []
    },
    {
      "cell_type": "markdown",
      "source": [],
      "metadata": {
        "id": "qaJTq6FyOaa2"
      }
    },
    {
      "cell_type": "markdown",
      "source": [],
      "metadata": {
        "id": "HtE9WgN4OamH"
      }
    },
    {
      "cell_type": "markdown",
      "source": [],
      "metadata": {
        "id": "Kj_z4jI_Oawq"
      }
    },
    {
      "cell_type": "markdown",
      "source": [],
      "metadata": {
        "id": "Sth0drMiOa34"
      }
    },
    {
      "cell_type": "markdown",
      "source": [
        "Четное или нечетное\n",
        "   - Написать программу, которая принимает число и сообщает, является ли оно четным или нечетным"
      ],
      "metadata": {
        "id": "_ta3HdZ8Zz-f"
      }
    },
    {
      "cell_type": "code",
      "source": [],
      "metadata": {
        "id": "Ar9eM1aeZ1k_"
      },
      "execution_count": null,
      "outputs": []
    },
    {
      "cell_type": "markdown",
      "source": [
        "Подсчет гласных\n",
        "   - Написать код, который принимает строку и подсчитывает количество гласных букв в ней.\n"
      ],
      "metadata": {
        "id": "zC9ws-JeZ37H"
      }
    },
    {
      "cell_type": "code",
      "source": [],
      "metadata": {
        "id": "xF2PmnwnZ4Xo"
      },
      "execution_count": null,
      "outputs": []
    },
    {
      "cell_type": "markdown",
      "source": [
        "Таблица умножения\n",
        "   - Напишите программу, которая выводит таблицу умножения для введенного пользователем числа.\n"
      ],
      "metadata": {
        "id": "5YyT6L-AbQzm"
      }
    },
    {
      "cell_type": "code",
      "source": [],
      "metadata": {
        "id": "cgt3zBENbTdH"
      },
      "execution_count": null,
      "outputs": []
    },
    {
      "cell_type": "markdown",
      "source": [
        "Обратный отсчет\n",
        "   - Реализуйте обратный отсчет от 10 до 1 с выводом \"Пуск!\" после завершения."
      ],
      "metadata": {
        "id": "rpw4NGYBbTvH"
      }
    },
    {
      "cell_type": "code",
      "source": [],
      "metadata": {
        "id": "txi2gkFvbVHW"
      },
      "execution_count": null,
      "outputs": []
    },
    {
      "cell_type": "markdown",
      "source": [
        "Минимум из трех чисел\n",
        "   - Напишите программу, которая запрашивает у пользователя три числа и выводит самое маленькое из них.\n"
      ],
      "metadata": {
        "id": "ovldg7cwbWTQ"
      }
    },
    {
      "cell_type": "code",
      "source": [],
      "metadata": {
        "id": "7EyeTAkzbWuP"
      },
      "execution_count": null,
      "outputs": []
    },
    {
      "cell_type": "markdown",
      "source": [
        "Поиск максимума\n",
        "   - Создайте программу, которая запрашивает у пользователя 5 чисел и выводит наибольшее.\n"
      ],
      "metadata": {
        "id": "wVDLrs2nbX3n"
      }
    },
    {
      "cell_type": "code",
      "source": [],
      "metadata": {
        "id": "kbZK8A5PbYOW"
      },
      "execution_count": null,
      "outputs": []
    },
    {
      "cell_type": "markdown",
      "source": [
        "Простые числа\n",
        "   - Напишите программу, которая выводит все простые числа от 1 до 50."
      ],
      "metadata": {
        "id": "B1GtzORjbZ2G"
      }
    },
    {
      "cell_type": "code",
      "source": [],
      "metadata": {
        "id": "tqCNC0gObbUe"
      },
      "execution_count": null,
      "outputs": []
    },
    {
      "cell_type": "markdown",
      "source": [
        "Пароль\n",
        "   - Реализуйте программу, которая запрашивает у пользователя пароль и предоставляет три попытки для его правильного ввода."
      ],
      "metadata": {
        "id": "xZgR-0utbdo2"
      }
    },
    {
      "cell_type": "code",
      "source": [],
      "metadata": {
        "id": "BkyXoCNabfUG"
      },
      "execution_count": null,
      "outputs": []
    }
  ]
}